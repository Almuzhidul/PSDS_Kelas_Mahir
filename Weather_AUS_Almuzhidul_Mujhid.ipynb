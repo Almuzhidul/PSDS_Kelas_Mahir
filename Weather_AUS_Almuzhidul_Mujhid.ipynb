{
  "nbformat": 4,
  "nbformat_minor": 0,
  "metadata": {
    "colab": {
      "name": "Weather AUS_Almuzhidul Mujhid.ipynb",
      "provenance": [],
      "collapsed_sections": [],
      "mount_file_id": "1pueylH_BoBcPpchjyb5WcekkA3eK_fgI",
      "authorship_tag": "ABX9TyMHldgyxydJPaiIuELQibIK",
      "include_colab_link": true
    },
    "kernelspec": {
      "display_name": "Python 3",
      "name": "python3"
    },
    "language_info": {
      "name": "python"
    }
  },
  "cells": [
    {
      "cell_type": "markdown",
      "metadata": {
        "id": "view-in-github",
        "colab_type": "text"
      },
      "source": [
        "<a href=\"https://colab.research.google.com/github/Almuzhidul/PSDS_Kelas_Mahir/blob/main/Weather_AUS_Almuzhidul_Mujhid.ipynb\" target=\"_parent\"><img src=\"https://colab.research.google.com/assets/colab-badge.svg\" alt=\"Open In Colab\"/></a>"
      ]
    },
    {
      "cell_type": "markdown",
      "metadata": {
        "id": "iBhG6whmuXUv"
      },
      "source": [
        "# **Assalamualaikum Warahmatullaahi Wabarakaatuh**\n",
        "Beriku proses Klasifikasi yang saya lakukan pada data Weather AUS"
      ]
    },
    {
      "cell_type": "code",
      "metadata": {
        "id": "2_01FWiIuq6x"
      },
      "source": [
        "from sklearn.linear_model import LogisticRegression\n",
        "from sklearn.preprocessing import MinMaxScaler\n",
        "import pandas as pd                           \n",
        "import numpy as np\n",
        "import seaborn as sns\n",
        "import matplotlib.pyplot as plt\n",
        "from collections import Counter\n",
        "from sklearn import datasets\n",
        "from sklearn.model_selection import train_test_split\n",
        "from matplotlib.colors import ListedColormap\n",
        "cmap = ListedColormap(['#FF0000', '#00FF00', '#0000FF'])\n",
        "from sklearn.neighbors import KNeighborsClassifier\n",
        "from sklearn.naive_bayes import GaussianNB\n",
        "from sklearn.metrics import confusion_matrix\n",
        "from scipy.stats import mode\n",
        "from numpy.random import randint\n",
        "from sklearn import preprocessing\n",
        "%matplotlib inline"
      ],
      "execution_count": null,
      "outputs": []
    },
    {
      "cell_type": "code",
      "metadata": {
        "colab": {
          "base_uri": "https://localhost:8080/",
          "height": 343
        },
        "id": "mD03r2s2uwJm",
        "outputId": "45d61c21-66e3-4cff-e93a-782e7c294670"
      },
      "source": [
        "df = pd.read_csv('https://raw.githubusercontent.com/Almuzhidul/PSDS_Kelas_Mahir/main/weatherAUS.csv%20-%20weatherAUS.csv.csv')\n",
        "df.head()"
      ],
      "execution_count": null,
      "outputs": [
        {
          "output_type": "stream",
          "text": [
            "/usr/local/lib/python3.7/dist-packages/IPython/core/interactiveshell.py:2718: DtypeWarning: Columns (16) have mixed types.Specify dtype option on import or set low_memory=False.\n",
            "  interactivity=interactivity, compiler=compiler, result=result)\n"
          ],
          "name": "stderr"
        },
        {
          "output_type": "execute_result",
          "data": {
            "text/html": [
              "<div>\n",
              "<style scoped>\n",
              "    .dataframe tbody tr th:only-of-type {\n",
              "        vertical-align: middle;\n",
              "    }\n",
              "\n",
              "    .dataframe tbody tr th {\n",
              "        vertical-align: top;\n",
              "    }\n",
              "\n",
              "    .dataframe thead th {\n",
              "        text-align: right;\n",
              "    }\n",
              "</style>\n",
              "<table border=\"1\" class=\"dataframe\">\n",
              "  <thead>\n",
              "    <tr style=\"text-align: right;\">\n",
              "      <th></th>\n",
              "      <th>Date</th>\n",
              "      <th>Location</th>\n",
              "      <th>MinTemp</th>\n",
              "      <th>MaxTemp</th>\n",
              "      <th>Rainfall</th>\n",
              "      <th>Evaporation</th>\n",
              "      <th>Sunshine</th>\n",
              "      <th>WindGustDir</th>\n",
              "      <th>WindGustSpeed</th>\n",
              "      <th>WindDir9am</th>\n",
              "      <th>WindDir3pm</th>\n",
              "      <th>WindSpeed9am</th>\n",
              "      <th>WindSpeed3pm</th>\n",
              "      <th>Humidity9am</th>\n",
              "      <th>Humidity3pm</th>\n",
              "      <th>Pressure9am</th>\n",
              "      <th>Pressure3pm</th>\n",
              "      <th>Cloud9am</th>\n",
              "      <th>Cloud3pm</th>\n",
              "      <th>Temp9am</th>\n",
              "      <th>Temp3pm</th>\n",
              "      <th>RainToday</th>\n",
              "      <th>RainTomorrow</th>\n",
              "    </tr>\n",
              "  </thead>\n",
              "  <tbody>\n",
              "    <tr>\n",
              "      <th>0</th>\n",
              "      <td>2008-12-01</td>\n",
              "      <td>Albury</td>\n",
              "      <td>13.4</td>\n",
              "      <td>22.9</td>\n",
              "      <td>0.6</td>\n",
              "      <td>NaN</td>\n",
              "      <td>NaN</td>\n",
              "      <td>W</td>\n",
              "      <td>44.0</td>\n",
              "      <td>W</td>\n",
              "      <td>WNW</td>\n",
              "      <td>20.0</td>\n",
              "      <td>24.0</td>\n",
              "      <td>71.0</td>\n",
              "      <td>22.0</td>\n",
              "      <td>1007.7</td>\n",
              "      <td>1007.1</td>\n",
              "      <td>8.0</td>\n",
              "      <td>NaN</td>\n",
              "      <td>16.9</td>\n",
              "      <td>21.8</td>\n",
              "      <td>No</td>\n",
              "      <td>No</td>\n",
              "    </tr>\n",
              "    <tr>\n",
              "      <th>1</th>\n",
              "      <td>2008-12-02</td>\n",
              "      <td>Albury</td>\n",
              "      <td>7.4</td>\n",
              "      <td>25.1</td>\n",
              "      <td>0.0</td>\n",
              "      <td>NaN</td>\n",
              "      <td>NaN</td>\n",
              "      <td>WNW</td>\n",
              "      <td>44.0</td>\n",
              "      <td>NNW</td>\n",
              "      <td>WSW</td>\n",
              "      <td>4.0</td>\n",
              "      <td>22.0</td>\n",
              "      <td>44.0</td>\n",
              "      <td>25.0</td>\n",
              "      <td>1010.6</td>\n",
              "      <td>1007.8</td>\n",
              "      <td>NaN</td>\n",
              "      <td>NaN</td>\n",
              "      <td>17.2</td>\n",
              "      <td>24.3</td>\n",
              "      <td>No</td>\n",
              "      <td>No</td>\n",
              "    </tr>\n",
              "    <tr>\n",
              "      <th>2</th>\n",
              "      <td>2008-12-03</td>\n",
              "      <td>Albury</td>\n",
              "      <td>12.9</td>\n",
              "      <td>25.7</td>\n",
              "      <td>0.0</td>\n",
              "      <td>NaN</td>\n",
              "      <td>NaN</td>\n",
              "      <td>WSW</td>\n",
              "      <td>46.0</td>\n",
              "      <td>W</td>\n",
              "      <td>WSW</td>\n",
              "      <td>19.0</td>\n",
              "      <td>26.0</td>\n",
              "      <td>38.0</td>\n",
              "      <td>30.0</td>\n",
              "      <td>1007.6</td>\n",
              "      <td>1008.7</td>\n",
              "      <td>NaN</td>\n",
              "      <td>2.0</td>\n",
              "      <td>21.0</td>\n",
              "      <td>23.2</td>\n",
              "      <td>No</td>\n",
              "      <td>No</td>\n",
              "    </tr>\n",
              "    <tr>\n",
              "      <th>3</th>\n",
              "      <td>2008-12-04</td>\n",
              "      <td>Albury</td>\n",
              "      <td>9.2</td>\n",
              "      <td>28.0</td>\n",
              "      <td>0.0</td>\n",
              "      <td>NaN</td>\n",
              "      <td>NaN</td>\n",
              "      <td>NE</td>\n",
              "      <td>24.0</td>\n",
              "      <td>SE</td>\n",
              "      <td>E</td>\n",
              "      <td>11.0</td>\n",
              "      <td>9.0</td>\n",
              "      <td>45.0</td>\n",
              "      <td>16.0</td>\n",
              "      <td>1017.6</td>\n",
              "      <td>1012.8</td>\n",
              "      <td>NaN</td>\n",
              "      <td>NaN</td>\n",
              "      <td>18.1</td>\n",
              "      <td>26.5</td>\n",
              "      <td>No</td>\n",
              "      <td>No</td>\n",
              "    </tr>\n",
              "    <tr>\n",
              "      <th>4</th>\n",
              "      <td>2008-12-05</td>\n",
              "      <td>Albury</td>\n",
              "      <td>17.5</td>\n",
              "      <td>32.3</td>\n",
              "      <td>1.0</td>\n",
              "      <td>NaN</td>\n",
              "      <td>NaN</td>\n",
              "      <td>W</td>\n",
              "      <td>41.0</td>\n",
              "      <td>ENE</td>\n",
              "      <td>NW</td>\n",
              "      <td>7.0</td>\n",
              "      <td>20.0</td>\n",
              "      <td>82.0</td>\n",
              "      <td>33.0</td>\n",
              "      <td>1010.8</td>\n",
              "      <td>1006</td>\n",
              "      <td>7.0</td>\n",
              "      <td>8.0</td>\n",
              "      <td>17.8</td>\n",
              "      <td>29.7</td>\n",
              "      <td>No</td>\n",
              "      <td>No</td>\n",
              "    </tr>\n",
              "  </tbody>\n",
              "</table>\n",
              "</div>"
            ],
            "text/plain": [
              "         Date Location  MinTemp  ...  Temp3pm  RainToday  RainTomorrow\n",
              "0  2008-12-01   Albury     13.4  ...     21.8         No            No\n",
              "1  2008-12-02   Albury      7.4  ...     24.3         No            No\n",
              "2  2008-12-03   Albury     12.9  ...     23.2         No            No\n",
              "3  2008-12-04   Albury      9.2  ...     26.5         No            No\n",
              "4  2008-12-05   Albury     17.5  ...     29.7         No            No\n",
              "\n",
              "[5 rows x 23 columns]"
            ]
          },
          "metadata": {
            "tags": []
          },
          "execution_count": 317
        }
      ]
    },
    {
      "cell_type": "markdown",
      "metadata": {
        "id": "E2b6R572yPAY"
      },
      "source": [
        "# **Exploratory Data Analysis**"
      ]
    },
    {
      "cell_type": "markdown",
      "metadata": {
        "id": "wwVa5oUs3cjp"
      },
      "source": [
        "### *Mengecek Dimensi Data*"
      ]
    },
    {
      "cell_type": "code",
      "metadata": {
        "colab": {
          "base_uri": "https://localhost:8080/"
        },
        "id": "ioJ53BofxPa6",
        "outputId": "3374905d-0302-4c78-9da9-2284a920a0b0"
      },
      "source": [
        "df.shape"
      ],
      "execution_count": null,
      "outputs": [
        {
          "output_type": "execute_result",
          "data": {
            "text/plain": [
              "(145460, 23)"
            ]
          },
          "metadata": {
            "tags": []
          },
          "execution_count": 318
        }
      ]
    },
    {
      "cell_type": "markdown",
      "metadata": {
        "id": "NaiLp2SLyjZH"
      },
      "source": [
        "### *Mengecek Variabel Dataset*"
      ]
    },
    {
      "cell_type": "code",
      "metadata": {
        "colab": {
          "base_uri": "https://localhost:8080/"
        },
        "id": "cbL-alOzyev-",
        "outputId": "3ec43807-7188-4872-ddd1-ad16516f1616"
      },
      "source": [
        "df.columns.values"
      ],
      "execution_count": null,
      "outputs": [
        {
          "output_type": "execute_result",
          "data": {
            "text/plain": [
              "array(['Date', 'Location', 'MinTemp', 'MaxTemp', 'Rainfall',\n",
              "       'Evaporation', 'Sunshine', 'WindGustDir', 'WindGustSpeed',\n",
              "       'WindDir9am', 'WindDir3pm', 'WindSpeed9am', 'WindSpeed3pm',\n",
              "       'Humidity9am', 'Humidity3pm', 'Pressure9am', 'Pressure3pm',\n",
              "       'Cloud9am', 'Cloud3pm', 'Temp9am', 'Temp3pm', 'RainToday',\n",
              "       'RainTomorrow'], dtype=object)"
            ]
          },
          "metadata": {
            "tags": []
          },
          "execution_count": 319
        }
      ]
    },
    {
      "cell_type": "markdown",
      "metadata": {
        "id": "uGWx7M9BznDN"
      },
      "source": [
        "Terdapat 23 Kolom/Variabel"
      ]
    },
    {
      "cell_type": "markdown",
      "metadata": {
        "id": "ZHVo5RRpzwYA"
      },
      "source": [
        "### *Melihat Tipe Data pada Variabel*"
      ]
    },
    {
      "cell_type": "code",
      "metadata": {
        "colab": {
          "base_uri": "https://localhost:8080/"
        },
        "id": "ov9IBNX0yrPG",
        "outputId": "8a64f409-7458-4be9-fc44-36fc6c4ea52e"
      },
      "source": [
        "df.dtypes"
      ],
      "execution_count": null,
      "outputs": [
        {
          "output_type": "execute_result",
          "data": {
            "text/plain": [
              "Date              object\n",
              "Location          object\n",
              "MinTemp          float64\n",
              "MaxTemp          float64\n",
              "Rainfall         float64\n",
              "Evaporation      float64\n",
              "Sunshine         float64\n",
              "WindGustDir       object\n",
              "WindGustSpeed    float64\n",
              "WindDir9am        object\n",
              "WindDir3pm        object\n",
              "WindSpeed9am     float64\n",
              "WindSpeed3pm     float64\n",
              "Humidity9am      float64\n",
              "Humidity3pm      float64\n",
              "Pressure9am      float64\n",
              "Pressure3pm       object\n",
              "Cloud9am         float64\n",
              "Cloud3pm         float64\n",
              "Temp9am          float64\n",
              "Temp3pm          float64\n",
              "RainToday         object\n",
              "RainTomorrow      object\n",
              "dtype: object"
            ]
          },
          "metadata": {
            "tags": []
          },
          "execution_count": 320
        }
      ]
    },
    {
      "cell_type": "code",
      "metadata": {
        "colab": {
          "base_uri": "https://localhost:8080/"
        },
        "id": "j9UF_Hnvy02V",
        "outputId": "49d5c9c8-1291-46fa-9ece-def87bf49511"
      },
      "source": [
        "df.info()"
      ],
      "execution_count": null,
      "outputs": [
        {
          "output_type": "stream",
          "text": [
            "<class 'pandas.core.frame.DataFrame'>\n",
            "RangeIndex: 145460 entries, 0 to 145459\n",
            "Data columns (total 23 columns):\n",
            " #   Column         Non-Null Count   Dtype  \n",
            "---  ------         --------------   -----  \n",
            " 0   Date           145460 non-null  object \n",
            " 1   Location       145460 non-null  object \n",
            " 2   MinTemp        143975 non-null  float64\n",
            " 3   MaxTemp        144199 non-null  float64\n",
            " 4   Rainfall       142199 non-null  float64\n",
            " 5   Evaporation    82670 non-null   float64\n",
            " 6   Sunshine       75625 non-null   float64\n",
            " 7   WindGustDir    135134 non-null  object \n",
            " 8   WindGustSpeed  135197 non-null  float64\n",
            " 9   WindDir9am     134894 non-null  object \n",
            " 10  WindDir3pm     141232 non-null  object \n",
            " 11  WindSpeed9am   143693 non-null  float64\n",
            " 12  WindSpeed3pm   142398 non-null  float64\n",
            " 13  Humidity9am    142806 non-null  float64\n",
            " 14  Humidity3pm    140953 non-null  float64\n",
            " 15  Pressure9am    130395 non-null  float64\n",
            " 16  Pressure3pm    130432 non-null  object \n",
            " 17  Cloud9am       89572 non-null   float64\n",
            " 18  Cloud3pm       86102 non-null   float64\n",
            " 19  Temp9am        143693 non-null  float64\n",
            " 20  Temp3pm        141851 non-null  float64\n",
            " 21  RainToday      142199 non-null  object \n",
            " 22  RainTomorrow   142193 non-null  object \n",
            "dtypes: float64(15), object(8)\n",
            "memory usage: 25.5+ MB\n"
          ],
          "name": "stdout"
        }
      ]
    },
    {
      "cell_type": "markdown",
      "metadata": {
        "id": "-livhnEI4Mnn"
      },
      "source": [
        "### *Melihat Statistik Data*"
      ]
    },
    {
      "cell_type": "code",
      "metadata": {
        "colab": {
          "base_uri": "https://localhost:8080/",
          "height": 317
        },
        "id": "bOKuPMmX4RAl",
        "outputId": "b504a3a0-7485-42bc-8249-082c147bfc07"
      },
      "source": [
        "df.describe()"
      ],
      "execution_count": null,
      "outputs": [
        {
          "output_type": "execute_result",
          "data": {
            "text/html": [
              "<div>\n",
              "<style scoped>\n",
              "    .dataframe tbody tr th:only-of-type {\n",
              "        vertical-align: middle;\n",
              "    }\n",
              "\n",
              "    .dataframe tbody tr th {\n",
              "        vertical-align: top;\n",
              "    }\n",
              "\n",
              "    .dataframe thead th {\n",
              "        text-align: right;\n",
              "    }\n",
              "</style>\n",
              "<table border=\"1\" class=\"dataframe\">\n",
              "  <thead>\n",
              "    <tr style=\"text-align: right;\">\n",
              "      <th></th>\n",
              "      <th>MinTemp</th>\n",
              "      <th>MaxTemp</th>\n",
              "      <th>Rainfall</th>\n",
              "      <th>Evaporation</th>\n",
              "      <th>Sunshine</th>\n",
              "      <th>WindGustSpeed</th>\n",
              "      <th>WindSpeed9am</th>\n",
              "      <th>WindSpeed3pm</th>\n",
              "      <th>Humidity9am</th>\n",
              "      <th>Humidity3pm</th>\n",
              "      <th>Pressure9am</th>\n",
              "      <th>Cloud9am</th>\n",
              "      <th>Cloud3pm</th>\n",
              "      <th>Temp9am</th>\n",
              "      <th>Temp3pm</th>\n",
              "    </tr>\n",
              "  </thead>\n",
              "  <tbody>\n",
              "    <tr>\n",
              "      <th>count</th>\n",
              "      <td>143975.000000</td>\n",
              "      <td>144199.000000</td>\n",
              "      <td>142199.000000</td>\n",
              "      <td>82670.000000</td>\n",
              "      <td>75625.000000</td>\n",
              "      <td>135197.000000</td>\n",
              "      <td>143693.000000</td>\n",
              "      <td>142398.000000</td>\n",
              "      <td>142806.000000</td>\n",
              "      <td>140953.000000</td>\n",
              "      <td>130395.00000</td>\n",
              "      <td>89572.000000</td>\n",
              "      <td>86102.000000</td>\n",
              "      <td>143693.000000</td>\n",
              "      <td>141851.00000</td>\n",
              "    </tr>\n",
              "    <tr>\n",
              "      <th>mean</th>\n",
              "      <td>12.194034</td>\n",
              "      <td>23.221348</td>\n",
              "      <td>2.360918</td>\n",
              "      <td>5.468232</td>\n",
              "      <td>7.611178</td>\n",
              "      <td>40.035230</td>\n",
              "      <td>14.043426</td>\n",
              "      <td>18.662657</td>\n",
              "      <td>68.880831</td>\n",
              "      <td>51.539116</td>\n",
              "      <td>1017.64994</td>\n",
              "      <td>4.447461</td>\n",
              "      <td>4.509930</td>\n",
              "      <td>16.990631</td>\n",
              "      <td>21.68339</td>\n",
              "    </tr>\n",
              "    <tr>\n",
              "      <th>std</th>\n",
              "      <td>6.398495</td>\n",
              "      <td>7.119049</td>\n",
              "      <td>8.478060</td>\n",
              "      <td>4.193704</td>\n",
              "      <td>3.785483</td>\n",
              "      <td>13.607062</td>\n",
              "      <td>8.915375</td>\n",
              "      <td>8.809800</td>\n",
              "      <td>19.029164</td>\n",
              "      <td>20.795902</td>\n",
              "      <td>7.10653</td>\n",
              "      <td>2.887159</td>\n",
              "      <td>2.720357</td>\n",
              "      <td>6.488753</td>\n",
              "      <td>6.93665</td>\n",
              "    </tr>\n",
              "    <tr>\n",
              "      <th>min</th>\n",
              "      <td>-8.500000</td>\n",
              "      <td>-4.800000</td>\n",
              "      <td>0.000000</td>\n",
              "      <td>0.000000</td>\n",
              "      <td>0.000000</td>\n",
              "      <td>6.000000</td>\n",
              "      <td>0.000000</td>\n",
              "      <td>0.000000</td>\n",
              "      <td>0.000000</td>\n",
              "      <td>0.000000</td>\n",
              "      <td>980.50000</td>\n",
              "      <td>0.000000</td>\n",
              "      <td>0.000000</td>\n",
              "      <td>-7.200000</td>\n",
              "      <td>-5.40000</td>\n",
              "    </tr>\n",
              "    <tr>\n",
              "      <th>25%</th>\n",
              "      <td>7.600000</td>\n",
              "      <td>17.900000</td>\n",
              "      <td>0.000000</td>\n",
              "      <td>2.600000</td>\n",
              "      <td>4.800000</td>\n",
              "      <td>31.000000</td>\n",
              "      <td>7.000000</td>\n",
              "      <td>13.000000</td>\n",
              "      <td>57.000000</td>\n",
              "      <td>37.000000</td>\n",
              "      <td>1012.90000</td>\n",
              "      <td>1.000000</td>\n",
              "      <td>2.000000</td>\n",
              "      <td>12.300000</td>\n",
              "      <td>16.60000</td>\n",
              "    </tr>\n",
              "    <tr>\n",
              "      <th>50%</th>\n",
              "      <td>12.000000</td>\n",
              "      <td>22.600000</td>\n",
              "      <td>0.000000</td>\n",
              "      <td>4.800000</td>\n",
              "      <td>8.400000</td>\n",
              "      <td>39.000000</td>\n",
              "      <td>13.000000</td>\n",
              "      <td>19.000000</td>\n",
              "      <td>70.000000</td>\n",
              "      <td>52.000000</td>\n",
              "      <td>1017.60000</td>\n",
              "      <td>5.000000</td>\n",
              "      <td>5.000000</td>\n",
              "      <td>16.700000</td>\n",
              "      <td>21.10000</td>\n",
              "    </tr>\n",
              "    <tr>\n",
              "      <th>75%</th>\n",
              "      <td>16.900000</td>\n",
              "      <td>28.200000</td>\n",
              "      <td>0.800000</td>\n",
              "      <td>7.400000</td>\n",
              "      <td>10.600000</td>\n",
              "      <td>48.000000</td>\n",
              "      <td>19.000000</td>\n",
              "      <td>24.000000</td>\n",
              "      <td>83.000000</td>\n",
              "      <td>66.000000</td>\n",
              "      <td>1022.40000</td>\n",
              "      <td>7.000000</td>\n",
              "      <td>7.000000</td>\n",
              "      <td>21.600000</td>\n",
              "      <td>26.40000</td>\n",
              "    </tr>\n",
              "    <tr>\n",
              "      <th>max</th>\n",
              "      <td>33.900000</td>\n",
              "      <td>48.100000</td>\n",
              "      <td>371.000000</td>\n",
              "      <td>145.000000</td>\n",
              "      <td>14.500000</td>\n",
              "      <td>135.000000</td>\n",
              "      <td>130.000000</td>\n",
              "      <td>87.000000</td>\n",
              "      <td>100.000000</td>\n",
              "      <td>100.000000</td>\n",
              "      <td>1041.00000</td>\n",
              "      <td>9.000000</td>\n",
              "      <td>9.000000</td>\n",
              "      <td>40.200000</td>\n",
              "      <td>46.70000</td>\n",
              "    </tr>\n",
              "  </tbody>\n",
              "</table>\n",
              "</div>"
            ],
            "text/plain": [
              "             MinTemp        MaxTemp  ...        Temp9am       Temp3pm\n",
              "count  143975.000000  144199.000000  ...  143693.000000  141851.00000\n",
              "mean       12.194034      23.221348  ...      16.990631      21.68339\n",
              "std         6.398495       7.119049  ...       6.488753       6.93665\n",
              "min        -8.500000      -4.800000  ...      -7.200000      -5.40000\n",
              "25%         7.600000      17.900000  ...      12.300000      16.60000\n",
              "50%        12.000000      22.600000  ...      16.700000      21.10000\n",
              "75%        16.900000      28.200000  ...      21.600000      26.40000\n",
              "max        33.900000      48.100000  ...      40.200000      46.70000\n",
              "\n",
              "[8 rows x 15 columns]"
            ]
          },
          "metadata": {
            "tags": []
          },
          "execution_count": 322
        }
      ]
    },
    {
      "cell_type": "markdown",
      "metadata": {
        "id": "61kRd8l70Io6"
      },
      "source": [
        "### *Mengecek Missing Data*"
      ]
    },
    {
      "cell_type": "code",
      "metadata": {
        "colab": {
          "base_uri": "https://localhost:8080/"
        },
        "id": "caFTWQol0ElJ",
        "outputId": "09f602c4-c7dc-458a-aaa6-8d01ab45bac9"
      },
      "source": [
        "df.isnull().sum()"
      ],
      "execution_count": null,
      "outputs": [
        {
          "output_type": "execute_result",
          "data": {
            "text/plain": [
              "Date                 0\n",
              "Location             0\n",
              "MinTemp           1485\n",
              "MaxTemp           1261\n",
              "Rainfall          3261\n",
              "Evaporation      62790\n",
              "Sunshine         69835\n",
              "WindGustDir      10326\n",
              "WindGustSpeed    10263\n",
              "WindDir9am       10566\n",
              "WindDir3pm        4228\n",
              "WindSpeed9am      1767\n",
              "WindSpeed3pm      3062\n",
              "Humidity9am       2654\n",
              "Humidity3pm       4507\n",
              "Pressure9am      15065\n",
              "Pressure3pm      15028\n",
              "Cloud9am         55888\n",
              "Cloud3pm         59358\n",
              "Temp9am           1767\n",
              "Temp3pm           3609\n",
              "RainToday         3261\n",
              "RainTomorrow      3267\n",
              "dtype: int64"
            ]
          },
          "metadata": {
            "tags": []
          },
          "execution_count": 323
        }
      ]
    },
    {
      "cell_type": "code",
      "metadata": {
        "colab": {
          "base_uri": "https://localhost:8080/",
          "height": 352
        },
        "id": "t06rhLQ2Tqgx",
        "outputId": "2e74ed8e-c923-4386-a54d-0e1c14ecf89e"
      },
      "source": [
        "sns.heatmap(df.isnull(),cbar=False,yticklabels=False,cmap = 'viridis')"
      ],
      "execution_count": null,
      "outputs": [
        {
          "output_type": "execute_result",
          "data": {
            "text/plain": [
              "<matplotlib.axes._subplots.AxesSubplot at 0x7f3d6f6e6b10>"
            ]
          },
          "metadata": {
            "tags": []
          },
          "execution_count": 324
        },
        {
          "output_type": "display_data",
          "data": {
            "image/png": "[encoded data removed]",
            "text/plain": [
              "<Figure size 432x288 with 1 Axes>"
            ]
          },
          "metadata": {
            "tags": []
          }
        }
      ]
    },
    {
      "cell_type": "markdown",
      "metadata": {
        "id": "G04vysgrSbVv"
      },
      "source": [
        "### *Menghapus Kolom*\n",
        "disini saya menghapus kolom ```Date``` karena dirasa tidak diperlukan"
      ]
    },
    {
      "cell_type": "code",
      "metadata": {
        "id": "sZx6hTFLTZtN"
      },
      "source": [
        "df.drop('Date',inplace=True,axis=1)\n",
        "df.drop('Pressure9am',inplace=True,axis=1)\n",
        "df.drop('Pressure3pm',inplace=True,axis=1)"
      ],
      "execution_count": null,
      "outputs": []
    },
    {
      "cell_type": "markdown",
      "metadata": {
        "id": "puxX7H0Q3okp"
      },
      "source": [
        "### *Mengisi NAN*\n",
        "Dengan menggunakan fillna : ```ffill``` yaitu kita menggunakan nilai pada kolom sebelumnya sebagai nilai kolom setelahnya, ```bfill``` yaitu kita menggunakan nilai setelahnya sebagai nilai kolomm sebelumnya"
      ]
    },
    {
      "cell_type": "code",
      "metadata": {
        "colab": {
          "base_uri": "https://localhost:8080/",
          "height": 439
        },
        "id": "PYp-OGsI0Q09",
        "outputId": "b9152dfe-aa20-4a75-b258-18dce9a9f78f"
      },
      "source": [
        "#df.fillna(df.mean(),axis='columns')\n",
        "df=df.fillna(method='bfill')\n",
        "df=df.fillna(method='ffill')\n",
        "df"
      ],
      "execution_count": null,
      "outputs": [
        {
          "output_type": "execute_result",
          "data": {
            "text/html": [
              "<div>\n",
              "<style scoped>\n",
              "    .dataframe tbody tr th:only-of-type {\n",
              "        vertical-align: middle;\n",
              "    }\n",
              "\n",
              "    .dataframe tbody tr th {\n",
              "        vertical-align: top;\n",
              "    }\n",
              "\n",
              "    .dataframe thead th {\n",
              "        text-align: right;\n",
              "    }\n",
              "</style>\n",
              "<table border=\"1\" class=\"dataframe\">\n",
              "  <thead>\n",
              "    <tr style=\"text-align: right;\">\n",
              "      <th></th>\n",
              "      <th>Location</th>\n",
              "      <th>MinTemp</th>\n",
              "      <th>MaxTemp</th>\n",
              "      <th>Rainfall</th>\n",
              "      <th>Evaporation</th>\n",
              "      <th>Sunshine</th>\n",
              "      <th>WindGustDir</th>\n",
              "      <th>WindGustSpeed</th>\n",
              "      <th>WindDir9am</th>\n",
              "      <th>WindDir3pm</th>\n",
              "      <th>WindSpeed9am</th>\n",
              "      <th>WindSpeed3pm</th>\n",
              "      <th>Humidity9am</th>\n",
              "      <th>Humidity3pm</th>\n",
              "      <th>Cloud9am</th>\n",
              "      <th>Cloud3pm</th>\n",
              "      <th>Temp9am</th>\n",
              "      <th>Temp3pm</th>\n",
              "      <th>RainToday</th>\n",
              "      <th>RainTomorrow</th>\n",
              "    </tr>\n",
              "  </thead>\n",
              "  <tbody>\n",
              "    <tr>\n",
              "      <th>0</th>\n",
              "      <td>Albury</td>\n",
              "      <td>13.4</td>\n",
              "      <td>22.9</td>\n",
              "      <td>0.6</td>\n",
              "      <td>12.0</td>\n",
              "      <td>12.3</td>\n",
              "      <td>W</td>\n",
              "      <td>44.0</td>\n",
              "      <td>W</td>\n",
              "      <td>WNW</td>\n",
              "      <td>20.0</td>\n",
              "      <td>24.0</td>\n",
              "      <td>71.0</td>\n",
              "      <td>22.0</td>\n",
              "      <td>8.0</td>\n",
              "      <td>2.0</td>\n",
              "      <td>16.9</td>\n",
              "      <td>21.8</td>\n",
              "      <td>No</td>\n",
              "      <td>No</td>\n",
              "    </tr>\n",
              "    <tr>\n",
              "      <th>1</th>\n",
              "      <td>Albury</td>\n",
              "      <td>7.4</td>\n",
              "      <td>25.1</td>\n",
              "      <td>0.0</td>\n",
              "      <td>12.0</td>\n",
              "      <td>12.3</td>\n",
              "      <td>WNW</td>\n",
              "      <td>44.0</td>\n",
              "      <td>NNW</td>\n",
              "      <td>WSW</td>\n",
              "      <td>4.0</td>\n",
              "      <td>22.0</td>\n",
              "      <td>44.0</td>\n",
              "      <td>25.0</td>\n",
              "      <td>7.0</td>\n",
              "      <td>2.0</td>\n",
              "      <td>17.2</td>\n",
              "      <td>24.3</td>\n",
              "      <td>No</td>\n",
              "      <td>No</td>\n",
              "    </tr>\n",
              "    <tr>\n",
              "      <th>2</th>\n",
              "      <td>Albury</td>\n",
              "      <td>12.9</td>\n",
              "      <td>25.7</td>\n",
              "      <td>0.0</td>\n",
              "      <td>12.0</td>\n",
              "      <td>12.3</td>\n",
              "      <td>WSW</td>\n",
              "      <td>46.0</td>\n",
              "      <td>W</td>\n",
              "      <td>WSW</td>\n",
              "      <td>19.0</td>\n",
              "      <td>26.0</td>\n",
              "      <td>38.0</td>\n",
              "      <td>30.0</td>\n",
              "      <td>7.0</td>\n",
              "      <td>2.0</td>\n",
              "      <td>21.0</td>\n",
              "      <td>23.2</td>\n",
              "      <td>No</td>\n",
              "      <td>No</td>\n",
              "    </tr>\n",
              "    <tr>\n",
              "      <th>3</th>\n",
              "      <td>Albury</td>\n",
              "      <td>9.2</td>\n",
              "      <td>28.0</td>\n",
              "      <td>0.0</td>\n",
              "      <td>12.0</td>\n",
              "      <td>12.3</td>\n",
              "      <td>NE</td>\n",
              "      <td>24.0</td>\n",
              "      <td>SE</td>\n",
              "      <td>E</td>\n",
              "      <td>11.0</td>\n",
              "      <td>9.0</td>\n",
              "      <td>45.0</td>\n",
              "      <td>16.0</td>\n",
              "      <td>7.0</td>\n",
              "      <td>8.0</td>\n",
              "      <td>18.1</td>\n",
              "      <td>26.5</td>\n",
              "      <td>No</td>\n",
              "      <td>No</td>\n",
              "    </tr>\n",
              "    <tr>\n",
              "      <th>4</th>\n",
              "      <td>Albury</td>\n",
              "      <td>17.5</td>\n",
              "      <td>32.3</td>\n",
              "      <td>1.0</td>\n",
              "      <td>12.0</td>\n",
              "      <td>12.3</td>\n",
              "      <td>W</td>\n",
              "      <td>41.0</td>\n",
              "      <td>ENE</td>\n",
              "      <td>NW</td>\n",
              "      <td>7.0</td>\n",
              "      <td>20.0</td>\n",
              "      <td>82.0</td>\n",
              "      <td>33.0</td>\n",
              "      <td>7.0</td>\n",
              "      <td>8.0</td>\n",
              "      <td>17.8</td>\n",
              "      <td>29.7</td>\n",
              "      <td>No</td>\n",
              "      <td>No</td>\n",
              "    </tr>\n",
              "    <tr>\n",
              "      <th>...</th>\n",
              "      <td>...</td>\n",
              "      <td>...</td>\n",
              "      <td>...</td>\n",
              "      <td>...</td>\n",
              "      <td>...</td>\n",
              "      <td>...</td>\n",
              "      <td>...</td>\n",
              "      <td>...</td>\n",
              "      <td>...</td>\n",
              "      <td>...</td>\n",
              "      <td>...</td>\n",
              "      <td>...</td>\n",
              "      <td>...</td>\n",
              "      <td>...</td>\n",
              "      <td>...</td>\n",
              "      <td>...</td>\n",
              "      <td>...</td>\n",
              "      <td>...</td>\n",
              "      <td>...</td>\n",
              "      <td>...</td>\n",
              "    </tr>\n",
              "    <tr>\n",
              "      <th>145455</th>\n",
              "      <td>Uluru</td>\n",
              "      <td>2.8</td>\n",
              "      <td>23.4</td>\n",
              "      <td>0.0</td>\n",
              "      <td>10.0</td>\n",
              "      <td>10.7</td>\n",
              "      <td>E</td>\n",
              "      <td>31.0</td>\n",
              "      <td>SE</td>\n",
              "      <td>ENE</td>\n",
              "      <td>13.0</td>\n",
              "      <td>11.0</td>\n",
              "      <td>51.0</td>\n",
              "      <td>24.0</td>\n",
              "      <td>3.0</td>\n",
              "      <td>2.0</td>\n",
              "      <td>10.1</td>\n",
              "      <td>22.4</td>\n",
              "      <td>No</td>\n",
              "      <td>No</td>\n",
              "    </tr>\n",
              "    <tr>\n",
              "      <th>145456</th>\n",
              "      <td>Uluru</td>\n",
              "      <td>3.6</td>\n",
              "      <td>25.3</td>\n",
              "      <td>0.0</td>\n",
              "      <td>10.0</td>\n",
              "      <td>10.7</td>\n",
              "      <td>NNW</td>\n",
              "      <td>22.0</td>\n",
              "      <td>SE</td>\n",
              "      <td>N</td>\n",
              "      <td>13.0</td>\n",
              "      <td>9.0</td>\n",
              "      <td>56.0</td>\n",
              "      <td>21.0</td>\n",
              "      <td>3.0</td>\n",
              "      <td>2.0</td>\n",
              "      <td>10.9</td>\n",
              "      <td>24.5</td>\n",
              "      <td>No</td>\n",
              "      <td>No</td>\n",
              "    </tr>\n",
              "    <tr>\n",
              "      <th>145457</th>\n",
              "      <td>Uluru</td>\n",
              "      <td>5.4</td>\n",
              "      <td>26.9</td>\n",
              "      <td>0.0</td>\n",
              "      <td>10.0</td>\n",
              "      <td>10.7</td>\n",
              "      <td>N</td>\n",
              "      <td>37.0</td>\n",
              "      <td>SE</td>\n",
              "      <td>WNW</td>\n",
              "      <td>9.0</td>\n",
              "      <td>9.0</td>\n",
              "      <td>53.0</td>\n",
              "      <td>24.0</td>\n",
              "      <td>3.0</td>\n",
              "      <td>2.0</td>\n",
              "      <td>12.5</td>\n",
              "      <td>26.1</td>\n",
              "      <td>No</td>\n",
              "      <td>No</td>\n",
              "    </tr>\n",
              "    <tr>\n",
              "      <th>145458</th>\n",
              "      <td>Uluru</td>\n",
              "      <td>7.8</td>\n",
              "      <td>27.0</td>\n",
              "      <td>0.0</td>\n",
              "      <td>10.0</td>\n",
              "      <td>10.7</td>\n",
              "      <td>SE</td>\n",
              "      <td>28.0</td>\n",
              "      <td>SSE</td>\n",
              "      <td>N</td>\n",
              "      <td>13.0</td>\n",
              "      <td>7.0</td>\n",
              "      <td>51.0</td>\n",
              "      <td>24.0</td>\n",
              "      <td>3.0</td>\n",
              "      <td>2.0</td>\n",
              "      <td>15.1</td>\n",
              "      <td>26.0</td>\n",
              "      <td>No</td>\n",
              "      <td>No</td>\n",
              "    </tr>\n",
              "    <tr>\n",
              "      <th>145459</th>\n",
              "      <td>Uluru</td>\n",
              "      <td>14.9</td>\n",
              "      <td>27.0</td>\n",
              "      <td>0.0</td>\n",
              "      <td>10.0</td>\n",
              "      <td>10.7</td>\n",
              "      <td>SE</td>\n",
              "      <td>28.0</td>\n",
              "      <td>ESE</td>\n",
              "      <td>ESE</td>\n",
              "      <td>17.0</td>\n",
              "      <td>17.0</td>\n",
              "      <td>62.0</td>\n",
              "      <td>36.0</td>\n",
              "      <td>8.0</td>\n",
              "      <td>8.0</td>\n",
              "      <td>15.0</td>\n",
              "      <td>20.9</td>\n",
              "      <td>No</td>\n",
              "      <td>No</td>\n",
              "    </tr>\n",
              "  </tbody>\n",
              "</table>\n",
              "<p>145460 rows × 20 columns</p>\n",
              "</div>"
            ],
            "text/plain": [
              "       Location  MinTemp  MaxTemp  ...  Temp3pm  RainToday  RainTomorrow\n",
              "0        Albury     13.4     22.9  ...     21.8         No            No\n",
              "1        Albury      7.4     25.1  ...     24.3         No            No\n",
              "2        Albury     12.9     25.7  ...     23.2         No            No\n",
              "3        Albury      9.2     28.0  ...     26.5         No            No\n",
              "4        Albury     17.5     32.3  ...     29.7         No            No\n",
              "...         ...      ...      ...  ...      ...        ...           ...\n",
              "145455    Uluru      2.8     23.4  ...     22.4         No            No\n",
              "145456    Uluru      3.6     25.3  ...     24.5         No            No\n",
              "145457    Uluru      5.4     26.9  ...     26.1         No            No\n",
              "145458    Uluru      7.8     27.0  ...     26.0         No            No\n",
              "145459    Uluru     14.9     27.0  ...     20.9         No            No\n",
              "\n",
              "[145460 rows x 20 columns]"
            ]
          },
          "metadata": {
            "tags": []
          },
          "execution_count": 326
        }
      ]
    },
    {
      "cell_type": "code",
      "metadata": {
        "colab": {
          "base_uri": "https://localhost:8080/"
        },
        "id": "iub-2lkR3nKt",
        "outputId": "95495bad-21d0-414e-cbbe-0f65648284e0"
      },
      "source": [
        "df.isnull().sum()"
      ],
      "execution_count": null,
      "outputs": [
        {
          "output_type": "execute_result",
          "data": {
            "text/plain": [
              "Location         0\n",
              "MinTemp          0\n",
              "MaxTemp          0\n",
              "Rainfall         0\n",
              "Evaporation      0\n",
              "Sunshine         0\n",
              "WindGustDir      0\n",
              "WindGustSpeed    0\n",
              "WindDir9am       0\n",
              "WindDir3pm       0\n",
              "WindSpeed9am     0\n",
              "WindSpeed3pm     0\n",
              "Humidity9am      0\n",
              "Humidity3pm      0\n",
              "Cloud9am         0\n",
              "Cloud3pm         0\n",
              "Temp9am          0\n",
              "Temp3pm          0\n",
              "RainToday        0\n",
              "RainTomorrow     0\n",
              "dtype: int64"
            ]
          },
          "metadata": {
            "tags": []
          },
          "execution_count": 327
        }
      ]
    },
    {
      "cell_type": "code",
      "metadata": {
        "colab": {
          "base_uri": "https://localhost:8080/",
          "height": 352
        },
        "id": "Qq63TO4WTx0m",
        "outputId": "30e8716d-c652-4691-c225-e4938bacadf7"
      },
      "source": [
        "sns.heatmap(df.isnull(),cbar=False,yticklabels=False,cmap = 'viridis')"
      ],
      "execution_count": null,
      "outputs": [
        {
          "output_type": "execute_result",
          "data": {
            "text/plain": [
              "<matplotlib.axes._subplots.AxesSubplot at 0x7f3d7b7b8c90>"
            ]
          },
          "metadata": {
            "tags": []
          },
          "execution_count": 328
        },
        {
          "output_type": "display_data",
          "data": {
            "image/png": "[encoded data removed]",
            "text/plain": [
              "<Figure size 432x288 with 1 Axes>"
            ]
          },
          "metadata": {
            "tags": []
          }
        }
      ]
    },
    {
      "cell_type": "markdown",
      "metadata": {
        "id": "z4ezPGNYTRQu"
      },
      "source": [
        "dapat dilihhat bahwa sudah tidak ada data yang hilang"
      ]
    },
    {
      "cell_type": "markdown",
      "metadata": {
        "id": "3TJL6zeUVeYp"
      },
      "source": [
        "## *Mengecek Outlier*"
      ]
    },
    {
      "cell_type": "code",
      "metadata": {
        "colab": {
          "base_uri": "https://localhost:8080/",
          "height": 297
        },
        "id": "9fRiHUIJSZZ4",
        "outputId": "2c66af5c-b0e4-4f40-c298-1e7918ed0d80"
      },
      "source": [
        "df1=df.select_dtypes(include=['float64', 'int64'])#Memilih kolom numerik\n",
        "\n",
        "sns.boxplot(x=\"variable\", y=\"value\", color='green',orient='v', data=pd.melt(df1))\n",
        "plt.tight_layout()"
      ],
      "execution_count": null,
      "outputs": [
        {
          "output_type": "display_data",
          "data": {
            "image/png": "[encoded data removed]",
            "text/plain": [
              "<Figure size 432x288 with 1 Axes>"
            ]
          },
          "metadata": {
            "tags": []
          }
        }
      ]
    },
    {
      "cell_type": "markdown",
      "metadata": {
        "id": "7mMiYm4jVyeA"
      },
      "source": [
        "Terlihat kolom dengan jenis numerik yang masih outlier ada 10 variabel"
      ]
    },
    {
      "cell_type": "markdown",
      "metadata": {
        "id": "YdN3qMi1YG79"
      },
      "source": [
        "## *Melakukan Pengkodean data String*"
      ]
    },
    {
      "cell_type": "code",
      "metadata": {
        "colab": {
          "base_uri": "https://localhost:8080/"
        },
        "id": "pqDON8r-YMAU",
        "outputId": "8756ffca-e710-4b40-ded8-0f0ada65fb03"
      },
      "source": [
        "df['Location'].value_counts()"
      ],
      "execution_count": null,
      "outputs": [
        {
          "output_type": "execute_result",
          "data": {
            "text/plain": [
              "Canberra            3436\n",
              "Sydney              3344\n",
              "Brisbane            3193\n",
              "Adelaide            3193\n",
              "Hobart              3193\n",
              "Perth               3193\n",
              "Melbourne           3193\n",
              "Darwin              3193\n",
              "Albury              3040\n",
              "AliceSprings        3040\n",
              "Ballarat            3040\n",
              "Albany              3040\n",
              "MountGambier        3040\n",
              "Wollongong          3040\n",
              "Cairns              3040\n",
              "Bendigo             3040\n",
              "MountGinini         3040\n",
              "Launceston          3040\n",
              "Townsville          3040\n",
              "GoldCoast           3040\n",
              "Penrith             3039\n",
              "Tuggeranong         3039\n",
              "Newcastle           3039\n",
              "Dartmoor            3009\n",
              "Nuriootpa           3009\n",
              "Cobar               3009\n",
              "NorfolkIsland       3009\n",
              "Witchcliffe         3009\n",
              "Williamtown         3009\n",
              "BadgerysCreek       3009\n",
              "Portland            3009\n",
              "PearceRAAF          3009\n",
              "Woomera             3009\n",
              "Watsonia            3009\n",
              "Sale                3009\n",
              "CoffsHarbour        3009\n",
              "Moree               3009\n",
              "PerthAirport        3009\n",
              "Richmond            3009\n",
              "Mildura             3009\n",
              "WaggaWagga          3009\n",
              "MelbourneAirport    3009\n",
              "SydneyAirport       3009\n",
              "Walpole             3006\n",
              "NorahHead           3004\n",
              "SalmonGums          3001\n",
              "Uluru               1578\n",
              "Nhil                1578\n",
              "Katherine           1578\n",
              "Name: Location, dtype: int64"
            ]
          },
          "metadata": {
            "tags": []
          },
          "execution_count": 330
        }
      ]
    },
    {
      "cell_type": "code",
      "metadata": {
        "id": "Mtj5xg5kcwEA"
      },
      "source": [
        "df[\"Location\"] = df[\"Location\"].astype('category')"
      ],
      "execution_count": null,
      "outputs": []
    },
    {
      "cell_type": "code",
      "metadata": {
        "colab": {
          "base_uri": "https://localhost:8080/"
        },
        "id": "zkek50tQYXYE",
        "outputId": "8ed95863-0474-4869-e049-d02a811a724c"
      },
      "source": [
        "df['WindGustDir'].value_counts()"
      ],
      "execution_count": null,
      "outputs": [
        {
          "output_type": "execute_result",
          "data": {
            "text/plain": [
              "SSE    13367\n",
              "SSW    11952\n",
              "W      10112\n",
              "SE      9603\n",
              "SW      9486\n",
              "N       9422\n",
              "E       9391\n",
              "S       9302\n",
              "WSW     9231\n",
              "WNW     8455\n",
              "NW      8417\n",
              "ENE     8260\n",
              "ESE     7741\n",
              "NE      7261\n",
              "NNE     6741\n",
              "NNW     6719\n",
              "Name: WindGustDir, dtype: int64"
            ]
          },
          "metadata": {
            "tags": []
          },
          "execution_count": 332
        }
      ]
    },
    {
      "cell_type": "code",
      "metadata": {
        "id": "6cnn_mEBc4Bi"
      },
      "source": [
        "df[\"WindGustDir\"] = df[\"WindGustDir\"].astype('category')"
      ],
      "execution_count": null,
      "outputs": []
    },
    {
      "cell_type": "code",
      "metadata": {
        "colab": {
          "base_uri": "https://localhost:8080/"
        },
        "id": "qQu4eyKXY14X",
        "outputId": "cd38655a-f30d-4578-d965-f3fae390878c"
      },
      "source": [
        "df['WindDir9am'].value_counts()"
      ],
      "execution_count": null,
      "outputs": [
        {
          "output_type": "execute_result",
          "data": {
            "text/plain": [
              "N      12782\n",
              "SE     10022\n",
              "NW      9854\n",
              "SSE     9824\n",
              "E       9720\n",
              "S       9263\n",
              "SW      9105\n",
              "W       8865\n",
              "NNE     8826\n",
              "NNW     8633\n",
              "NE      8550\n",
              "ENE     8422\n",
              "SSW     8066\n",
              "ESE     8020\n",
              "WNW     7860\n",
              "WSW     7648\n",
              "Name: WindDir9am, dtype: int64"
            ]
          },
          "metadata": {
            "tags": []
          },
          "execution_count": 334
        }
      ]
    },
    {
      "cell_type": "code",
      "metadata": {
        "id": "J89Ks2udc_5c"
      },
      "source": [
        "df[\"WindDir9am\"] = df[\"WindDir9am\"].astype('category')"
      ],
      "execution_count": null,
      "outputs": []
    },
    {
      "cell_type": "code",
      "metadata": {
        "colab": {
          "base_uri": "https://localhost:8080/"
        },
        "id": "o_WLfd-7ZTP4",
        "outputId": "8ad6d78e-33c0-4115-d551-e0426e8c9127"
      },
      "source": [
        "df['WindDir3pm'].value_counts()"
      ],
      "execution_count": null,
      "outputs": [
        {
          "output_type": "execute_result",
          "data": {
            "text/plain": [
              "SE     11186\n",
              "S      10344\n",
              "W      10327\n",
              "SSE    10167\n",
              "WSW     9616\n",
              "SW      9463\n",
              "NE      9115\n",
              "N       9039\n",
              "WNW     9027\n",
              "NW      8916\n",
              "ESE     8793\n",
              "E       8582\n",
              "SSW     8301\n",
              "NNW     7977\n",
              "ENE     7940\n",
              "NNE     6667\n",
              "Name: WindDir3pm, dtype: int64"
            ]
          },
          "metadata": {
            "tags": []
          },
          "execution_count": 336
        }
      ]
    },
    {
      "cell_type": "code",
      "metadata": {
        "id": "tXYm9BA0dGNn"
      },
      "source": [
        "df[\"WindDir3pm\"] = df[\"WindDir3pm\"].astype('category')"
      ],
      "execution_count": null,
      "outputs": []
    },
    {
      "cell_type": "code",
      "metadata": {
        "colab": {
          "base_uri": "https://localhost:8080/"
        },
        "id": "ETm_L7ciZkaZ",
        "outputId": "04db0fd1-0339-472b-9ff3-84edf7e4c767"
      },
      "source": [
        "df['RainToday'].value_counts()"
      ],
      "execution_count": null,
      "outputs": [
        {
          "output_type": "execute_result",
          "data": {
            "text/plain": [
              "No     111713\n",
              "Yes     33747\n",
              "Name: RainToday, dtype: int64"
            ]
          },
          "metadata": {
            "tags": []
          },
          "execution_count": 338
        }
      ]
    },
    {
      "cell_type": "code",
      "metadata": {
        "id": "UmfhrzhTdOkC"
      },
      "source": [
        "df[\"RainToday\"] = df[\"RainToday\"].astype('category')"
      ],
      "execution_count": null,
      "outputs": []
    },
    {
      "cell_type": "code",
      "metadata": {
        "colab": {
          "base_uri": "https://localhost:8080/"
        },
        "id": "seO5blCFZte0",
        "outputId": "d486b84e-742f-4807-8428-9a4231c1490a"
      },
      "source": [
        "df['RainTomorrow'].value_counts()"
      ],
      "execution_count": null,
      "outputs": [
        {
          "output_type": "execute_result",
          "data": {
            "text/plain": [
              "No     111716\n",
              "Yes     33744\n",
              "Name: RainTomorrow, dtype: int64"
            ]
          },
          "metadata": {
            "tags": []
          },
          "execution_count": 340
        }
      ]
    },
    {
      "cell_type": "code",
      "metadata": {
        "id": "UeCKAt79dWwi"
      },
      "source": [
        "df[\"RainTomorrow\"] = df[\"RainTomorrow\"].astype('category')"
      ],
      "execution_count": null,
      "outputs": []
    },
    {
      "cell_type": "code",
      "metadata": {
        "colab": {
          "base_uri": "https://localhost:8080/",
          "height": 224
        },
        "id": "d3wQew8ZaAH1",
        "outputId": "c40605c1-c7bc-4194-cc6a-09b280078419"
      },
      "source": [
        "#Proses Pengkodean\n",
        "df[\"Location\"] = df[\"Location\"].cat.codes\n",
        "df[\"WindGustDir\"] = df[\"WindGustDir\"].cat.codes\n",
        "df[\"WindDir9am\"] = df[\"WindDir9am\"].cat.codes\n",
        "df[\"WindDir3pm\"] = df[\"WindDir3pm\"].cat.codes\n",
        "df.head()"
      ],
      "execution_count": null,
      "outputs": [
        {
          "output_type": "execute_result",
          "data": {
            "text/html": [
              "<div>\n",
              "<style scoped>\n",
              "    .dataframe tbody tr th:only-of-type {\n",
              "        vertical-align: middle;\n",
              "    }\n",
              "\n",
              "    .dataframe tbody tr th {\n",
              "        vertical-align: top;\n",
              "    }\n",
              "\n",
              "    .dataframe thead th {\n",
              "        text-align: right;\n",
              "    }\n",
              "</style>\n",
              "<table border=\"1\" class=\"dataframe\">\n",
              "  <thead>\n",
              "    <tr style=\"text-align: right;\">\n",
              "      <th></th>\n",
              "      <th>Location</th>\n",
              "      <th>MinTemp</th>\n",
              "      <th>MaxTemp</th>\n",
              "      <th>Rainfall</th>\n",
              "      <th>Evaporation</th>\n",
              "      <th>Sunshine</th>\n",
              "      <th>WindGustDir</th>\n",
              "      <th>WindGustSpeed</th>\n",
              "      <th>WindDir9am</th>\n",
              "      <th>WindDir3pm</th>\n",
              "      <th>WindSpeed9am</th>\n",
              "      <th>WindSpeed3pm</th>\n",
              "      <th>Humidity9am</th>\n",
              "      <th>Humidity3pm</th>\n",
              "      <th>Cloud9am</th>\n",
              "      <th>Cloud3pm</th>\n",
              "      <th>Temp9am</th>\n",
              "      <th>Temp3pm</th>\n",
              "      <th>RainToday</th>\n",
              "      <th>RainTomorrow</th>\n",
              "    </tr>\n",
              "  </thead>\n",
              "  <tbody>\n",
              "    <tr>\n",
              "      <th>0</th>\n",
              "      <td>2</td>\n",
              "      <td>13.4</td>\n",
              "      <td>22.9</td>\n",
              "      <td>0.6</td>\n",
              "      <td>12.0</td>\n",
              "      <td>12.3</td>\n",
              "      <td>13</td>\n",
              "      <td>44.0</td>\n",
              "      <td>13</td>\n",
              "      <td>14</td>\n",
              "      <td>20.0</td>\n",
              "      <td>24.0</td>\n",
              "      <td>71.0</td>\n",
              "      <td>22.0</td>\n",
              "      <td>8.0</td>\n",
              "      <td>2.0</td>\n",
              "      <td>16.9</td>\n",
              "      <td>21.8</td>\n",
              "      <td>No</td>\n",
              "      <td>No</td>\n",
              "    </tr>\n",
              "    <tr>\n",
              "      <th>1</th>\n",
              "      <td>2</td>\n",
              "      <td>7.4</td>\n",
              "      <td>25.1</td>\n",
              "      <td>0.0</td>\n",
              "      <td>12.0</td>\n",
              "      <td>12.3</td>\n",
              "      <td>14</td>\n",
              "      <td>44.0</td>\n",
              "      <td>6</td>\n",
              "      <td>15</td>\n",
              "      <td>4.0</td>\n",
              "      <td>22.0</td>\n",
              "      <td>44.0</td>\n",
              "      <td>25.0</td>\n",
              "      <td>7.0</td>\n",
              "      <td>2.0</td>\n",
              "      <td>17.2</td>\n",
              "      <td>24.3</td>\n",
              "      <td>No</td>\n",
              "      <td>No</td>\n",
              "    </tr>\n",
              "    <tr>\n",
              "      <th>2</th>\n",
              "      <td>2</td>\n",
              "      <td>12.9</td>\n",
              "      <td>25.7</td>\n",
              "      <td>0.0</td>\n",
              "      <td>12.0</td>\n",
              "      <td>12.3</td>\n",
              "      <td>15</td>\n",
              "      <td>46.0</td>\n",
              "      <td>13</td>\n",
              "      <td>15</td>\n",
              "      <td>19.0</td>\n",
              "      <td>26.0</td>\n",
              "      <td>38.0</td>\n",
              "      <td>30.0</td>\n",
              "      <td>7.0</td>\n",
              "      <td>2.0</td>\n",
              "      <td>21.0</td>\n",
              "      <td>23.2</td>\n",
              "      <td>No</td>\n",
              "      <td>No</td>\n",
              "    </tr>\n",
              "    <tr>\n",
              "      <th>3</th>\n",
              "      <td>2</td>\n",
              "      <td>9.2</td>\n",
              "      <td>28.0</td>\n",
              "      <td>0.0</td>\n",
              "      <td>12.0</td>\n",
              "      <td>12.3</td>\n",
              "      <td>4</td>\n",
              "      <td>24.0</td>\n",
              "      <td>9</td>\n",
              "      <td>0</td>\n",
              "      <td>11.0</td>\n",
              "      <td>9.0</td>\n",
              "      <td>45.0</td>\n",
              "      <td>16.0</td>\n",
              "      <td>7.0</td>\n",
              "      <td>8.0</td>\n",
              "      <td>18.1</td>\n",
              "      <td>26.5</td>\n",
              "      <td>No</td>\n",
              "      <td>No</td>\n",
              "    </tr>\n",
              "    <tr>\n",
              "      <th>4</th>\n",
              "      <td>2</td>\n",
              "      <td>17.5</td>\n",
              "      <td>32.3</td>\n",
              "      <td>1.0</td>\n",
              "      <td>12.0</td>\n",
              "      <td>12.3</td>\n",
              "      <td>13</td>\n",
              "      <td>41.0</td>\n",
              "      <td>1</td>\n",
              "      <td>7</td>\n",
              "      <td>7.0</td>\n",
              "      <td>20.0</td>\n",
              "      <td>82.0</td>\n",
              "      <td>33.0</td>\n",
              "      <td>7.0</td>\n",
              "      <td>8.0</td>\n",
              "      <td>17.8</td>\n",
              "      <td>29.7</td>\n",
              "      <td>No</td>\n",
              "      <td>No</td>\n",
              "    </tr>\n",
              "  </tbody>\n",
              "</table>\n",
              "</div>"
            ],
            "text/plain": [
              "   Location  MinTemp  MaxTemp  ...  Temp3pm  RainToday  RainTomorrow\n",
              "0         2     13.4     22.9  ...     21.8         No            No\n",
              "1         2      7.4     25.1  ...     24.3         No            No\n",
              "2         2     12.9     25.7  ...     23.2         No            No\n",
              "3         2      9.2     28.0  ...     26.5         No            No\n",
              "4         2     17.5     32.3  ...     29.7         No            No\n",
              "\n",
              "[5 rows x 20 columns]"
            ]
          },
          "metadata": {
            "tags": []
          },
          "execution_count": 342
        }
      ]
    },
    {
      "cell_type": "code",
      "metadata": {
        "id": "g49eRwKya7Rk"
      },
      "source": [
        "cleanup_nums = {\"RainToday\":     {\"Yes\": 1, \"No\": 0},\n",
        "                \"RainTomorrow\": {\"Yes\": 1, \"No\": 0}}\n",
        "df = df.replace(cleanup_nums)"
      ],
      "execution_count": null,
      "outputs": []
    },
    {
      "cell_type": "code",
      "metadata": {
        "colab": {
          "base_uri": "https://localhost:8080/"
        },
        "id": "U_Z7BhcXVkVw",
        "outputId": "785ed3a1-7491-4006-bc64-48db5cad19cb"
      },
      "source": [
        "#Menghitung Skor IQR\n",
        "sorted(df)\n",
        "\n",
        "Q1=df.quantile(0.25)\n",
        "Q3=df.quantile(0.75)\n",
        "IQR=Q3-Q1\n",
        "print(IQR)"
      ],
      "execution_count": null,
      "outputs": [
        {
          "output_type": "stream",
          "text": [
            "Location         25.0\n",
            "MinTemp           9.2\n",
            "MaxTemp          10.3\n",
            "Rainfall          0.8\n",
            "Evaporation       5.8\n",
            "Sunshine          5.5\n",
            "WindGustDir       8.0\n",
            "WindGustSpeed    17.0\n",
            "WindDir9am        8.0\n",
            "WindDir3pm        8.0\n",
            "WindSpeed9am     12.0\n",
            "WindSpeed3pm     11.0\n",
            "Humidity9am      26.0\n",
            "Humidity3pm      29.0\n",
            "Cloud9am          5.0\n",
            "Cloud3pm          5.0\n",
            "Temp9am           9.2\n",
            "Temp3pm           9.9\n",
            "RainToday         0.0\n",
            "RainTomorrow      0.0\n",
            "dtype: float64\n"
          ],
          "name": "stdout"
        }
      ]
    },
    {
      "cell_type": "code",
      "metadata": {
        "colab": {
          "base_uri": "https://localhost:8080/",
          "height": 439
        },
        "id": "ZMPkF0q9X3pw",
        "outputId": "8f93429f-57af-44d8-c044-c9a1135e9c9c"
      },
      "source": [
        "#Menghapus Outlier\n",
        "df_clear = df[~((df < (Q1 - 1.5 * IQR)) |(df > (Q3 + 1.5 * IQR))).any(axis=1)]\n",
        "df_clear"
      ],
      "execution_count": null,
      "outputs": [
        {
          "output_type": "execute_result",
          "data": {
            "text/html": [
              "<div>\n",
              "<style scoped>\n",
              "    .dataframe tbody tr th:only-of-type {\n",
              "        vertical-align: middle;\n",
              "    }\n",
              "\n",
              "    .dataframe tbody tr th {\n",
              "        vertical-align: top;\n",
              "    }\n",
              "\n",
              "    .dataframe thead th {\n",
              "        text-align: right;\n",
              "    }\n",
              "</style>\n",
              "<table border=\"1\" class=\"dataframe\">\n",
              "  <thead>\n",
              "    <tr style=\"text-align: right;\">\n",
              "      <th></th>\n",
              "      <th>Location</th>\n",
              "      <th>MinTemp</th>\n",
              "      <th>MaxTemp</th>\n",
              "      <th>Rainfall</th>\n",
              "      <th>Evaporation</th>\n",
              "      <th>Sunshine</th>\n",
              "      <th>WindGustDir</th>\n",
              "      <th>WindGustSpeed</th>\n",
              "      <th>WindDir9am</th>\n",
              "      <th>WindDir3pm</th>\n",
              "      <th>WindSpeed9am</th>\n",
              "      <th>WindSpeed3pm</th>\n",
              "      <th>Humidity9am</th>\n",
              "      <th>Humidity3pm</th>\n",
              "      <th>Cloud9am</th>\n",
              "      <th>Cloud3pm</th>\n",
              "      <th>Temp9am</th>\n",
              "      <th>Temp3pm</th>\n",
              "      <th>RainToday</th>\n",
              "      <th>RainTomorrow</th>\n",
              "    </tr>\n",
              "  </thead>\n",
              "  <tbody>\n",
              "    <tr>\n",
              "      <th>0</th>\n",
              "      <td>2</td>\n",
              "      <td>13.4</td>\n",
              "      <td>22.9</td>\n",
              "      <td>0.6</td>\n",
              "      <td>12.0</td>\n",
              "      <td>12.3</td>\n",
              "      <td>13</td>\n",
              "      <td>44.0</td>\n",
              "      <td>13</td>\n",
              "      <td>14</td>\n",
              "      <td>20.0</td>\n",
              "      <td>24.0</td>\n",
              "      <td>71.0</td>\n",
              "      <td>22.0</td>\n",
              "      <td>8.0</td>\n",
              "      <td>2.0</td>\n",
              "      <td>16.9</td>\n",
              "      <td>21.8</td>\n",
              "      <td>0</td>\n",
              "      <td>0</td>\n",
              "    </tr>\n",
              "    <tr>\n",
              "      <th>1</th>\n",
              "      <td>2</td>\n",
              "      <td>7.4</td>\n",
              "      <td>25.1</td>\n",
              "      <td>0.0</td>\n",
              "      <td>12.0</td>\n",
              "      <td>12.3</td>\n",
              "      <td>14</td>\n",
              "      <td>44.0</td>\n",
              "      <td>6</td>\n",
              "      <td>15</td>\n",
              "      <td>4.0</td>\n",
              "      <td>22.0</td>\n",
              "      <td>44.0</td>\n",
              "      <td>25.0</td>\n",
              "      <td>7.0</td>\n",
              "      <td>2.0</td>\n",
              "      <td>17.2</td>\n",
              "      <td>24.3</td>\n",
              "      <td>0</td>\n",
              "      <td>0</td>\n",
              "    </tr>\n",
              "    <tr>\n",
              "      <th>2</th>\n",
              "      <td>2</td>\n",
              "      <td>12.9</td>\n",
              "      <td>25.7</td>\n",
              "      <td>0.0</td>\n",
              "      <td>12.0</td>\n",
              "      <td>12.3</td>\n",
              "      <td>15</td>\n",
              "      <td>46.0</td>\n",
              "      <td>13</td>\n",
              "      <td>15</td>\n",
              "      <td>19.0</td>\n",
              "      <td>26.0</td>\n",
              "      <td>38.0</td>\n",
              "      <td>30.0</td>\n",
              "      <td>7.0</td>\n",
              "      <td>2.0</td>\n",
              "      <td>21.0</td>\n",
              "      <td>23.2</td>\n",
              "      <td>0</td>\n",
              "      <td>0</td>\n",
              "    </tr>\n",
              "    <tr>\n",
              "      <th>3</th>\n",
              "      <td>2</td>\n",
              "      <td>9.2</td>\n",
              "      <td>28.0</td>\n",
              "      <td>0.0</td>\n",
              "      <td>12.0</td>\n",
              "      <td>12.3</td>\n",
              "      <td>4</td>\n",
              "      <td>24.0</td>\n",
              "      <td>9</td>\n",
              "      <td>0</td>\n",
              "      <td>11.0</td>\n",
              "      <td>9.0</td>\n",
              "      <td>45.0</td>\n",
              "      <td>16.0</td>\n",
              "      <td>7.0</td>\n",
              "      <td>8.0</td>\n",
              "      <td>18.1</td>\n",
              "      <td>26.5</td>\n",
              "      <td>0</td>\n",
              "      <td>0</td>\n",
              "    </tr>\n",
              "    <tr>\n",
              "      <th>4</th>\n",
              "      <td>2</td>\n",
              "      <td>17.5</td>\n",
              "      <td>32.3</td>\n",
              "      <td>1.0</td>\n",
              "      <td>12.0</td>\n",
              "      <td>12.3</td>\n",
              "      <td>13</td>\n",
              "      <td>41.0</td>\n",
              "      <td>1</td>\n",
              "      <td>7</td>\n",
              "      <td>7.0</td>\n",
              "      <td>20.0</td>\n",
              "      <td>82.0</td>\n",
              "      <td>33.0</td>\n",
              "      <td>7.0</td>\n",
              "      <td>8.0</td>\n",
              "      <td>17.8</td>\n",
              "      <td>29.7</td>\n",
              "      <td>0</td>\n",
              "      <td>0</td>\n",
              "    </tr>\n",
              "    <tr>\n",
              "      <th>...</th>\n",
              "      <td>...</td>\n",
              "      <td>...</td>\n",
              "      <td>...</td>\n",
              "      <td>...</td>\n",
              "      <td>...</td>\n",
              "      <td>...</td>\n",
              "      <td>...</td>\n",
              "      <td>...</td>\n",
              "      <td>...</td>\n",
              "      <td>...</td>\n",
              "      <td>...</td>\n",
              "      <td>...</td>\n",
              "      <td>...</td>\n",
              "      <td>...</td>\n",
              "      <td>...</td>\n",
              "      <td>...</td>\n",
              "      <td>...</td>\n",
              "      <td>...</td>\n",
              "      <td>...</td>\n",
              "      <td>...</td>\n",
              "    </tr>\n",
              "    <tr>\n",
              "      <th>145455</th>\n",
              "      <td>41</td>\n",
              "      <td>2.8</td>\n",
              "      <td>23.4</td>\n",
              "      <td>0.0</td>\n",
              "      <td>10.0</td>\n",
              "      <td>10.7</td>\n",
              "      <td>0</td>\n",
              "      <td>31.0</td>\n",
              "      <td>9</td>\n",
              "      <td>1</td>\n",
              "      <td>13.0</td>\n",
              "      <td>11.0</td>\n",
              "      <td>51.0</td>\n",
              "      <td>24.0</td>\n",
              "      <td>3.0</td>\n",
              "      <td>2.0</td>\n",
              "      <td>10.1</td>\n",
              "      <td>22.4</td>\n",
              "      <td>0</td>\n",
              "      <td>0</td>\n",
              "    </tr>\n",
              "    <tr>\n",
              "      <th>145456</th>\n",
              "      <td>41</td>\n",
              "      <td>3.6</td>\n",
              "      <td>25.3</td>\n",
              "      <td>0.0</td>\n",
              "      <td>10.0</td>\n",
              "      <td>10.7</td>\n",
              "      <td>6</td>\n",
              "      <td>22.0</td>\n",
              "      <td>9</td>\n",
              "      <td>3</td>\n",
              "      <td>13.0</td>\n",
              "      <td>9.0</td>\n",
              "      <td>56.0</td>\n",
              "      <td>21.0</td>\n",
              "      <td>3.0</td>\n",
              "      <td>2.0</td>\n",
              "      <td>10.9</td>\n",
              "      <td>24.5</td>\n",
              "      <td>0</td>\n",
              "      <td>0</td>\n",
              "    </tr>\n",
              "    <tr>\n",
              "      <th>145457</th>\n",
              "      <td>41</td>\n",
              "      <td>5.4</td>\n",
              "      <td>26.9</td>\n",
              "      <td>0.0</td>\n",
              "      <td>10.0</td>\n",
              "      <td>10.7</td>\n",
              "      <td>3</td>\n",
              "      <td>37.0</td>\n",
              "      <td>9</td>\n",
              "      <td>14</td>\n",
              "      <td>9.0</td>\n",
              "      <td>9.0</td>\n",
              "      <td>53.0</td>\n",
              "      <td>24.0</td>\n",
              "      <td>3.0</td>\n",
              "      <td>2.0</td>\n",
              "      <td>12.5</td>\n",
              "      <td>26.1</td>\n",
              "      <td>0</td>\n",
              "      <td>0</td>\n",
              "    </tr>\n",
              "    <tr>\n",
              "      <th>145458</th>\n",
              "      <td>41</td>\n",
              "      <td>7.8</td>\n",
              "      <td>27.0</td>\n",
              "      <td>0.0</td>\n",
              "      <td>10.0</td>\n",
              "      <td>10.7</td>\n",
              "      <td>9</td>\n",
              "      <td>28.0</td>\n",
              "      <td>10</td>\n",
              "      <td>3</td>\n",
              "      <td>13.0</td>\n",
              "      <td>7.0</td>\n",
              "      <td>51.0</td>\n",
              "      <td>24.0</td>\n",
              "      <td>3.0</td>\n",
              "      <td>2.0</td>\n",
              "      <td>15.1</td>\n",
              "      <td>26.0</td>\n",
              "      <td>0</td>\n",
              "      <td>0</td>\n",
              "    </tr>\n",
              "    <tr>\n",
              "      <th>145459</th>\n",
              "      <td>41</td>\n",
              "      <td>14.9</td>\n",
              "      <td>27.0</td>\n",
              "      <td>0.0</td>\n",
              "      <td>10.0</td>\n",
              "      <td>10.7</td>\n",
              "      <td>9</td>\n",
              "      <td>28.0</td>\n",
              "      <td>2</td>\n",
              "      <td>2</td>\n",
              "      <td>17.0</td>\n",
              "      <td>17.0</td>\n",
              "      <td>62.0</td>\n",
              "      <td>36.0</td>\n",
              "      <td>8.0</td>\n",
              "      <td>8.0</td>\n",
              "      <td>15.0</td>\n",
              "      <td>20.9</td>\n",
              "      <td>0</td>\n",
              "      <td>0</td>\n",
              "    </tr>\n",
              "  </tbody>\n",
              "</table>\n",
              "<p>86903 rows × 20 columns</p>\n",
              "</div>"
            ],
            "text/plain": [
              "        Location  MinTemp  MaxTemp  ...  Temp3pm  RainToday  RainTomorrow\n",
              "0              2     13.4     22.9  ...     21.8          0             0\n",
              "1              2      7.4     25.1  ...     24.3          0             0\n",
              "2              2     12.9     25.7  ...     23.2          0             0\n",
              "3              2      9.2     28.0  ...     26.5          0             0\n",
              "4              2     17.5     32.3  ...     29.7          0             0\n",
              "...          ...      ...      ...  ...      ...        ...           ...\n",
              "145455        41      2.8     23.4  ...     22.4          0             0\n",
              "145456        41      3.6     25.3  ...     24.5          0             0\n",
              "145457        41      5.4     26.9  ...     26.1          0             0\n",
              "145458        41      7.8     27.0  ...     26.0          0             0\n",
              "145459        41     14.9     27.0  ...     20.9          0             0\n",
              "\n",
              "[86903 rows x 20 columns]"
            ]
          },
          "metadata": {
            "tags": []
          },
          "execution_count": 345
        }
      ]
    },
    {
      "cell_type": "code",
      "metadata": {
        "colab": {
          "base_uri": "https://localhost:8080/",
          "height": 297
        },
        "id": "vNXdeeFHe17u",
        "outputId": "28130099-1829-402a-8fa8-d85c67f1917f"
      },
      "source": [
        "#Setelah memperkecil outlier\n",
        "df1=df_clear.select_dtypes(include=['float64', 'int64','category'])\n",
        "\n",
        "sns.boxplot(x=\"variable\", y=\"value\", color='green',orient='v', data=pd.melt(df1))\n",
        "plt.tight_layout()"
      ],
      "execution_count": null,
      "outputs": [
        {
          "output_type": "display_data",
          "data": {
            "image/png": "[encoded data removed]",
            "text/plain": [
              "<Figure size 432x288 with 1 Axes>"
            ]
          },
          "metadata": {
            "tags": []
          }
        }
      ]
    },
    {
      "cell_type": "markdown",
      "metadata": {
        "id": "UPE-vFLgg6BF"
      },
      "source": [
        "## *Normalisasi Data*"
      ]
    },
    {
      "cell_type": "code",
      "metadata": {
        "colab": {
          "base_uri": "https://localhost:8080/"
        },
        "id": "TD1H_N6nlOT3",
        "outputId": "71113444-fc72-4dd2-bc8e-24cfabe83adc"
      },
      "source": [
        "df_clear.dtypes"
      ],
      "execution_count": null,
      "outputs": [
        {
          "output_type": "execute_result",
          "data": {
            "text/plain": [
              "Location            int8\n",
              "MinTemp          float64\n",
              "MaxTemp          float64\n",
              "Rainfall         float64\n",
              "Evaporation      float64\n",
              "Sunshine         float64\n",
              "WindGustDir         int8\n",
              "WindGustSpeed    float64\n",
              "WindDir9am          int8\n",
              "WindDir3pm          int8\n",
              "WindSpeed9am     float64\n",
              "WindSpeed3pm     float64\n",
              "Humidity9am      float64\n",
              "Humidity3pm      float64\n",
              "Cloud9am         float64\n",
              "Cloud3pm         float64\n",
              "Temp9am          float64\n",
              "Temp3pm          float64\n",
              "RainToday          int64\n",
              "RainTomorrow       int64\n",
              "dtype: object"
            ]
          },
          "metadata": {
            "tags": []
          },
          "execution_count": 347
        }
      ]
    },
    {
      "cell_type": "code",
      "metadata": {
        "colab": {
          "base_uri": "https://localhost:8080/",
          "height": 439
        },
        "id": "vn8FTU6-e7-s",
        "outputId": "70ff6088-2f7c-4c3f-e5ea-31eb9987a6db"
      },
      "source": [
        "#Normalisasi data dengan MinMaxScaler\n",
        "scaler = MinMaxScaler()\n",
        "df_norm = pd.DataFrame(scaler.fit_transform(df_clear), columns=df_clear.columns)\n",
        "\n",
        "df_norm"
      ],
      "execution_count": null,
      "outputs": [
        {
          "output_type": "execute_result",
          "data": {
            "text/html": [
              "<div>\n",
              "<style scoped>\n",
              "    .dataframe tbody tr th:only-of-type {\n",
              "        vertical-align: middle;\n",
              "    }\n",
              "\n",
              "    .dataframe tbody tr th {\n",
              "        vertical-align: top;\n",
              "    }\n",
              "\n",
              "    .dataframe thead th {\n",
              "        text-align: right;\n",
              "    }\n",
              "</style>\n",
              "<table border=\"1\" class=\"dataframe\">\n",
              "  <thead>\n",
              "    <tr style=\"text-align: right;\">\n",
              "      <th></th>\n",
              "      <th>Location</th>\n",
              "      <th>MinTemp</th>\n",
              "      <th>MaxTemp</th>\n",
              "      <th>Rainfall</th>\n",
              "      <th>Evaporation</th>\n",
              "      <th>Sunshine</th>\n",
              "      <th>WindGustDir</th>\n",
              "      <th>WindGustSpeed</th>\n",
              "      <th>WindDir9am</th>\n",
              "      <th>WindDir3pm</th>\n",
              "      <th>WindSpeed9am</th>\n",
              "      <th>WindSpeed3pm</th>\n",
              "      <th>Humidity9am</th>\n",
              "      <th>Humidity3pm</th>\n",
              "      <th>Cloud9am</th>\n",
              "      <th>Cloud3pm</th>\n",
              "      <th>Temp9am</th>\n",
              "      <th>Temp3pm</th>\n",
              "      <th>RainToday</th>\n",
              "      <th>RainTomorrow</th>\n",
              "    </tr>\n",
              "  </thead>\n",
              "  <tbody>\n",
              "    <tr>\n",
              "      <th>0</th>\n",
              "      <td>0.041667</td>\n",
              "      <td>0.545961</td>\n",
              "      <td>0.496350</td>\n",
              "      <td>0.6</td>\n",
              "      <td>0.674157</td>\n",
              "      <td>0.848276</td>\n",
              "      <td>0.866667</td>\n",
              "      <td>0.575758</td>\n",
              "      <td>0.866667</td>\n",
              "      <td>0.933333</td>\n",
              "      <td>0.540541</td>\n",
              "      <td>0.615385</td>\n",
              "      <td>0.646341</td>\n",
              "      <td>0.212121</td>\n",
              "      <td>0.888889</td>\n",
              "      <td>0.222222</td>\n",
              "      <td>0.498638</td>\n",
              "      <td>0.506329</td>\n",
              "      <td>0.0</td>\n",
              "      <td>0.0</td>\n",
              "    </tr>\n",
              "    <tr>\n",
              "      <th>1</th>\n",
              "      <td>0.041667</td>\n",
              "      <td>0.378830</td>\n",
              "      <td>0.549878</td>\n",
              "      <td>0.0</td>\n",
              "      <td>0.674157</td>\n",
              "      <td>0.848276</td>\n",
              "      <td>0.933333</td>\n",
              "      <td>0.575758</td>\n",
              "      <td>0.400000</td>\n",
              "      <td>1.000000</td>\n",
              "      <td>0.108108</td>\n",
              "      <td>0.564103</td>\n",
              "      <td>0.317073</td>\n",
              "      <td>0.242424</td>\n",
              "      <td>0.777778</td>\n",
              "      <td>0.222222</td>\n",
              "      <td>0.506812</td>\n",
              "      <td>0.569620</td>\n",
              "      <td>0.0</td>\n",
              "      <td>0.0</td>\n",
              "    </tr>\n",
              "    <tr>\n",
              "      <th>2</th>\n",
              "      <td>0.041667</td>\n",
              "      <td>0.532033</td>\n",
              "      <td>0.564477</td>\n",
              "      <td>0.0</td>\n",
              "      <td>0.674157</td>\n",
              "      <td>0.848276</td>\n",
              "      <td>1.000000</td>\n",
              "      <td>0.606061</td>\n",
              "      <td>0.866667</td>\n",
              "      <td>1.000000</td>\n",
              "      <td>0.513514</td>\n",
              "      <td>0.666667</td>\n",
              "      <td>0.243902</td>\n",
              "      <td>0.292929</td>\n",
              "      <td>0.777778</td>\n",
              "      <td>0.222222</td>\n",
              "      <td>0.610354</td>\n",
              "      <td>0.541772</td>\n",
              "      <td>0.0</td>\n",
              "      <td>0.0</td>\n",
              "    </tr>\n",
              "    <tr>\n",
              "      <th>3</th>\n",
              "      <td>0.041667</td>\n",
              "      <td>0.428969</td>\n",
              "      <td>0.620438</td>\n",
              "      <td>0.0</td>\n",
              "      <td>0.674157</td>\n",
              "      <td>0.848276</td>\n",
              "      <td>0.266667</td>\n",
              "      <td>0.272727</td>\n",
              "      <td>0.600000</td>\n",
              "      <td>0.000000</td>\n",
              "      <td>0.297297</td>\n",
              "      <td>0.230769</td>\n",
              "      <td>0.329268</td>\n",
              "      <td>0.151515</td>\n",
              "      <td>0.777778</td>\n",
              "      <td>0.888889</td>\n",
              "      <td>0.531335</td>\n",
              "      <td>0.625316</td>\n",
              "      <td>0.0</td>\n",
              "      <td>0.0</td>\n",
              "    </tr>\n",
              "    <tr>\n",
              "      <th>4</th>\n",
              "      <td>0.041667</td>\n",
              "      <td>0.660167</td>\n",
              "      <td>0.725061</td>\n",
              "      <td>1.0</td>\n",
              "      <td>0.674157</td>\n",
              "      <td>0.848276</td>\n",
              "      <td>0.866667</td>\n",
              "      <td>0.530303</td>\n",
              "      <td>0.066667</td>\n",
              "      <td>0.466667</td>\n",
              "      <td>0.189189</td>\n",
              "      <td>0.512821</td>\n",
              "      <td>0.780488</td>\n",
              "      <td>0.323232</td>\n",
              "      <td>0.777778</td>\n",
              "      <td>0.888889</td>\n",
              "      <td>0.523161</td>\n",
              "      <td>0.706329</td>\n",
              "      <td>0.0</td>\n",
              "      <td>0.0</td>\n",
              "    </tr>\n",
              "    <tr>\n",
              "      <th>...</th>\n",
              "      <td>...</td>\n",
              "      <td>...</td>\n",
              "      <td>...</td>\n",
              "      <td>...</td>\n",
              "      <td>...</td>\n",
              "      <td>...</td>\n",
              "      <td>...</td>\n",
              "      <td>...</td>\n",
              "      <td>...</td>\n",
              "      <td>...</td>\n",
              "      <td>...</td>\n",
              "      <td>...</td>\n",
              "      <td>...</td>\n",
              "      <td>...</td>\n",
              "      <td>...</td>\n",
              "      <td>...</td>\n",
              "      <td>...</td>\n",
              "      <td>...</td>\n",
              "      <td>...</td>\n",
              "      <td>...</td>\n",
              "    </tr>\n",
              "    <tr>\n",
              "      <th>86898</th>\n",
              "      <td>0.854167</td>\n",
              "      <td>0.250696</td>\n",
              "      <td>0.508516</td>\n",
              "      <td>0.0</td>\n",
              "      <td>0.561798</td>\n",
              "      <td>0.737931</td>\n",
              "      <td>0.000000</td>\n",
              "      <td>0.378788</td>\n",
              "      <td>0.600000</td>\n",
              "      <td>0.066667</td>\n",
              "      <td>0.351351</td>\n",
              "      <td>0.282051</td>\n",
              "      <td>0.402439</td>\n",
              "      <td>0.232323</td>\n",
              "      <td>0.333333</td>\n",
              "      <td>0.222222</td>\n",
              "      <td>0.313351</td>\n",
              "      <td>0.521519</td>\n",
              "      <td>0.0</td>\n",
              "      <td>0.0</td>\n",
              "    </tr>\n",
              "    <tr>\n",
              "      <th>86899</th>\n",
              "      <td>0.854167</td>\n",
              "      <td>0.272981</td>\n",
              "      <td>0.554745</td>\n",
              "      <td>0.0</td>\n",
              "      <td>0.561798</td>\n",
              "      <td>0.737931</td>\n",
              "      <td>0.400000</td>\n",
              "      <td>0.242424</td>\n",
              "      <td>0.600000</td>\n",
              "      <td>0.200000</td>\n",
              "      <td>0.351351</td>\n",
              "      <td>0.230769</td>\n",
              "      <td>0.463415</td>\n",
              "      <td>0.202020</td>\n",
              "      <td>0.333333</td>\n",
              "      <td>0.222222</td>\n",
              "      <td>0.335150</td>\n",
              "      <td>0.574684</td>\n",
              "      <td>0.0</td>\n",
              "      <td>0.0</td>\n",
              "    </tr>\n",
              "    <tr>\n",
              "      <th>86900</th>\n",
              "      <td>0.854167</td>\n",
              "      <td>0.323120</td>\n",
              "      <td>0.593674</td>\n",
              "      <td>0.0</td>\n",
              "      <td>0.561798</td>\n",
              "      <td>0.737931</td>\n",
              "      <td>0.200000</td>\n",
              "      <td>0.469697</td>\n",
              "      <td>0.600000</td>\n",
              "      <td>0.933333</td>\n",
              "      <td>0.243243</td>\n",
              "      <td>0.230769</td>\n",
              "      <td>0.426829</td>\n",
              "      <td>0.232323</td>\n",
              "      <td>0.333333</td>\n",
              "      <td>0.222222</td>\n",
              "      <td>0.378747</td>\n",
              "      <td>0.615190</td>\n",
              "      <td>0.0</td>\n",
              "      <td>0.0</td>\n",
              "    </tr>\n",
              "    <tr>\n",
              "      <th>86901</th>\n",
              "      <td>0.854167</td>\n",
              "      <td>0.389972</td>\n",
              "      <td>0.596107</td>\n",
              "      <td>0.0</td>\n",
              "      <td>0.561798</td>\n",
              "      <td>0.737931</td>\n",
              "      <td>0.600000</td>\n",
              "      <td>0.333333</td>\n",
              "      <td>0.666667</td>\n",
              "      <td>0.200000</td>\n",
              "      <td>0.351351</td>\n",
              "      <td>0.179487</td>\n",
              "      <td>0.402439</td>\n",
              "      <td>0.232323</td>\n",
              "      <td>0.333333</td>\n",
              "      <td>0.222222</td>\n",
              "      <td>0.449591</td>\n",
              "      <td>0.612658</td>\n",
              "      <td>0.0</td>\n",
              "      <td>0.0</td>\n",
              "    </tr>\n",
              "    <tr>\n",
              "      <th>86902</th>\n",
              "      <td>0.854167</td>\n",
              "      <td>0.587744</td>\n",
              "      <td>0.596107</td>\n",
              "      <td>0.0</td>\n",
              "      <td>0.561798</td>\n",
              "      <td>0.737931</td>\n",
              "      <td>0.600000</td>\n",
              "      <td>0.333333</td>\n",
              "      <td>0.133333</td>\n",
              "      <td>0.133333</td>\n",
              "      <td>0.459459</td>\n",
              "      <td>0.435897</td>\n",
              "      <td>0.536585</td>\n",
              "      <td>0.353535</td>\n",
              "      <td>0.888889</td>\n",
              "      <td>0.888889</td>\n",
              "      <td>0.446866</td>\n",
              "      <td>0.483544</td>\n",
              "      <td>0.0</td>\n",
              "      <td>0.0</td>\n",
              "    </tr>\n",
              "  </tbody>\n",
              "</table>\n",
              "<p>86903 rows × 20 columns</p>\n",
              "</div>"
            ],
            "text/plain": [
              "       Location   MinTemp   MaxTemp  ...   Temp3pm  RainToday  RainTomorrow\n",
              "0      0.041667  0.545961  0.496350  ...  0.506329        0.0           0.0\n",
              "1      0.041667  0.378830  0.549878  ...  0.569620        0.0           0.0\n",
              "2      0.041667  0.532033  0.564477  ...  0.541772        0.0           0.0\n",
              "3      0.041667  0.428969  0.620438  ...  0.625316        0.0           0.0\n",
              "4      0.041667  0.660167  0.725061  ...  0.706329        0.0           0.0\n",
              "...         ...       ...       ...  ...       ...        ...           ...\n",
              "86898  0.854167  0.250696  0.508516  ...  0.521519        0.0           0.0\n",
              "86899  0.854167  0.272981  0.554745  ...  0.574684        0.0           0.0\n",
              "86900  0.854167  0.323120  0.593674  ...  0.615190        0.0           0.0\n",
              "86901  0.854167  0.389972  0.596107  ...  0.612658        0.0           0.0\n",
              "86902  0.854167  0.587744  0.596107  ...  0.483544        0.0           0.0\n",
              "\n",
              "[86903 rows x 20 columns]"
            ]
          },
          "metadata": {
            "tags": []
          },
          "execution_count": 348
        }
      ]
    },
    {
      "cell_type": "code",
      "metadata": {
        "colab": {
          "base_uri": "https://localhost:8080/"
        },
        "id": "mT_jWTdzgd7X",
        "outputId": "153b8292-1095-4382-f6eb-e3331594ec03"
      },
      "source": [
        "y=df_norm['RainTomorrow']\n",
        "X=df_norm.drop(columns=['RainTomorrow'])\n",
        "#Mengubah data menjadi array\n",
        "y=np.array(y)\n",
        "X=np.array(X)\n",
        "\n",
        "print(y)\n",
        "print(X)"
      ],
      "execution_count": null,
      "outputs": [
        {
          "output_type": "stream",
          "text": [
            "[0. 0. 0. ... 0. 0. 0.]\n",
            "[[0.04166667 0.545961   0.49635036 ... 0.4986376  0.50632911 0.        ]\n",
            " [0.04166667 0.37883008 0.54987835 ... 0.50681199 0.56962025 0.        ]\n",
            " [0.04166667 0.53203343 0.56447689 ... 0.61035422 0.54177215 0.        ]\n",
            " ...\n",
            " [0.85416667 0.32311978 0.59367397 ... 0.37874659 0.61518987 0.        ]\n",
            " [0.85416667 0.38997214 0.59610706 ... 0.44959128 0.61265823 0.        ]\n",
            " [0.85416667 0.58774373 0.59610706 ... 0.44686649 0.4835443  0.        ]]\n"
          ],
          "name": "stdout"
        }
      ]
    },
    {
      "cell_type": "markdown",
      "metadata": {
        "id": "Z0SbCjKAouO_"
      },
      "source": [
        "# **Pemodelan KNN**\n",
        "\n",
        "### Ide Dasar\n",
        "Mengklasifikasikan sebuah data ke dalam sebuah kelas didasarkan pada tetangga terdekatnya\n",
        "\n",
        "### Algoritma KNN\n",
        "Klasifikasi dengan algoritma KNN dilakukan dengan langkah-langkah berikut:\n",
        "1. Menghitung jarak antara data uji dan masing-masing data latih\n",
        "2. Mengurutkan jarak dari terdekat hingga terjauh\n",
        "3. Mengambil sejumlah k teratas dari vektor jarak(Tetangga)\n",
        "4. Mengambil kelas yang paling sering muncul pada baris yang dipilih\n",
        "5. Memilih kelas dari data prediksi\n",
        "\n",
        "### Kelebihan\n",
        "Fase pelatihan klasifikasi tetangga terdekat K jauh lebih cepat dibandingkan dengan algoritma klasifikasi lainnya. Tidak perlu melatih model untuk generalisasi, itulah sebabnya KNN dikenal sebagai algoritma pembelajaran sederhana dan berbasis instans. KNN dapat berguna dalam kasus data nonlinier. Ini bisa digunakan dengan masalah regresi. Nilai output untuk objek dihitung dengan rata-rata nilai k tetangga terdekat.\n",
        "\n",
        "### Kekurangan\n",
        "Fase pengujian klasifikasi K-terdekat tetangga lebih lambat dan lebih mahal dalam hal waktu dan memori. Ini membutuhkan memori yang besar untuk menyimpan seluruh set data pelatihan untuk prediksi. KNN memerlukan penskalaan data karena KNN menggunakan jarak Euclidean antara dua titik data untuk menemukan tetangga terdekat. Jarak euclidean sensitif terhadap magnitudo. Fitur dengan magnitudo tinggi akan lebih berbobot daripada fitur dengan magnitudo rendah. KNN juga tidak cocok untuk data berdimensi besar.\n",
        "\n",
        "### Meningkatkan KNN\n",
        "Untuk hasil yang lebih baik, sangat disarankan untuk menormalkan data pada skala yang sama. Umumnya, rentang normalisasi dianggap antara 0 dan 1. KNN tidak cocok untuk data berdimensi besar. Dalam kasus seperti itu, dimensi perlu dikurangi untuk meningkatkan kinerja. Selain itu, menangani nilai yang hilang akan membantu kami meningkatkan hasil."
      ]
    },
    {
      "cell_type": "code",
      "metadata": {
        "id": "GP5Rm4EIof79"
      },
      "source": [
        "y = df.RainTomorrow.values\n",
        "x_data = df.drop(['RainTomorrow'], axis = 1)"
      ],
      "execution_count": null,
      "outputs": []
    },
    {
      "cell_type": "code",
      "metadata": {
        "id": "v9EFFuWXo6Wr"
      },
      "source": [
        "x = (x_data - np.min(x_data)) / (np.max(x_data) - np.min(x_data)).values"
      ],
      "execution_count": null,
      "outputs": []
    },
    {
      "cell_type": "code",
      "metadata": {
        "id": "eCrDpKDjpFSL"
      },
      "source": [
        "# Membagi data menjadi data latih dan data uji\n",
        "x_train, x_test, y_train, y_test = train_test_split(x,y,test_size = 0.2,random_state=0)"
      ],
      "execution_count": null,
      "outputs": []
    },
    {
      "cell_type": "code",
      "metadata": {
        "id": "DF_MU_CMpJP1"
      },
      "source": [
        "x_train = x_train.T\n",
        "y_train = y_train.T\n",
        "x_test = x_test.T\n",
        "y_test = y_test.T"
      ],
      "execution_count": null,
      "outputs": []
    },
    {
      "cell_type": "code",
      "metadata": {
        "colab": {
          "base_uri": "https://localhost:8080/"
        },
        "id": "1tjApSpdpLz_",
        "outputId": "7ff97091-2da9-4993-d779-b1e0b450533a"
      },
      "source": [
        "knn = KNeighborsClassifier(n_neighbors = 9)  # n_neighbors means k\n",
        "knn.fit(x_train.T, y_train.T)\n",
        "prediction = knn.predict(x_test.T)\n",
        "\n",
        "print(\"{} NN Score: {:.2f}%\".format(9, knn.score(x_test.T, y_test.T)*100))"
      ],
      "execution_count": null,
      "outputs": [
        {
          "output_type": "stream",
          "text": [
            "9 NN Score: 82.87%\n"
          ],
          "name": "stdout"
        }
      ]
    },
    {
      "cell_type": "code",
      "metadata": {
        "colab": {
          "background_save": true
        },
        "id": "qQpDWzaGpRAM",
        "outputId": "df1f48b3-c6d6-4d39-84cb-b7225920a69f"
      },
      "source": [
        "accuracies = {}\n",
        "scoreList = []\n",
        "for i in range(1,20):\n",
        "    knn2 = KNeighborsClassifier(n_neighbors = i)  # n_neighbors means k\n",
        "    knn2.fit(x_train.T, y_train.T)\n",
        "    scoreList.append(knn2.score(x_test.T, y_test.T))\n",
        "    \n",
        "plt.plot(range(1,20), scoreList)\n",
        "plt.xticks(np.arange(1,20,1))\n",
        "plt.xlabel(\"K value\")\n",
        "plt.ylabel(\"Score\")\n",
        "plt.show()\n",
        "\n",
        "acc = max(scoreList)*100\n",
        "accuracies['KNN'] = acc\n",
        "print(\"Maximum KNN Score is {:.2f}%\".format(acc))"
      ],
      "execution_count": null,
      "outputs": [
        {
          "output_type": "display_data",
          "data": {
            "image/png": "[encoded data removed]",
            "text/plain": [
              "<Figure size 432x288 with 1 Axes>"
            ]
          },
          "metadata": {
            "tags": []
          }
        },
        {
          "output_type": "stream",
          "text": [
            "Maximum KNN Score is 83.14%\n"
          ],
          "name": "stdout"
        }
      ]
    },
    {
      "cell_type": "markdown",
      "metadata": {
        "id": "TZVnD1i-suD0"
      },
      "source": [
        "dapat dilihat bahwa untuk k 17 adalah yang mempunyai akurasi terbaik yaitu 83,14%"
      ]
    },
    {
      "cell_type": "markdown",
      "metadata": {
        "id": "wEwEhfeVq9gs"
      },
      "source": [
        "## *Confusion Matrix*"
      ]
    },
    {
      "cell_type": "code",
      "metadata": {
        "id": "o3JvfbPzqi4m",
        "colab": {
          "base_uri": "https://localhost:8080/"
        },
        "outputId": "bec1dad6-17da-4489-fd4c-9e275bbadaf7"
      },
      "source": [
        "confusion_matrix(y_test,prediction)"
      ],
      "execution_count": 363,
      "outputs": [
        {
          "output_type": "execute_result",
          "data": {
            "text/plain": [
              "array([[21008,  1350],\n",
              "       [ 3633,  3101]])"
            ]
          },
          "metadata": {
            "tags": []
          },
          "execution_count": 363
        }
      ]
    },
    {
      "cell_type": "markdown",
      "metadata": {
        "id": "Wz8tpVtMtWfk"
      },
      "source": [
        "Didapatkan dari confusion matrix untuk metode KNN :\\\n",
        "True Positif : 21008\\\n",
        "True Negatif : 3101\\\n",
        "False Positif : 3633\\\n",
        "False Negatif : 1350"
      ]
    }
  ]
}